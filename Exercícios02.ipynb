{
 "cells": [
  {
   "cell_type": "markdown",
   "metadata": {},
   "source": [
    "# Exercício 1-"
   ]
  },
  {
   "cell_type": "code",
   "execution_count": 1,
   "metadata": {},
   "outputs": [
    {
     "name": "stdout",
     "output_type": "stream",
     "text": [
      "reprovado\n"
     ]
    }
   ],
   "source": [
    "n1 =float(input(\"digite a nota\"))\n",
    "n2 =float(input(\"digite a segunda nota\"))\n",
    "notafinal = (n1 + n2) / 2\n",
    "if notafinal < 7 :\n",
    "    print(\"reprovado\")\n",
    "else:\n",
    "    print(\"aprovado\")"
   ]
  },
  {
   "cell_type": "markdown",
   "metadata": {},
   "source": [
    "# Exercício 2-"
   ]
  },
  {
   "cell_type": "code",
   "execution_count": 2,
   "metadata": {},
   "outputs": [
    {
     "name": "stdout",
     "output_type": "stream",
     "text": [
      "é maior que n2\n"
     ]
    }
   ],
   "source": [
    "n1 = float(input(\"digite seu numero\"))\n",
    "n2 = float(input(\"digite segundo numero\"))\n",
    "if n1>n2 :\n",
    "    print(\"é maior que n2\")\n",
    "else:\n",
    "    print(\"é menor \")"
   ]
  },
  {
   "cell_type": "markdown",
   "metadata": {},
   "source": [
    "# Exercício 3-"
   ]
  },
  {
   "cell_type": "code",
   "execution_count": 4,
   "metadata": {},
   "outputs": [
    {
     "name": "stdout",
     "output_type": "stream",
     "text": [
      "seu número é impar\n"
     ]
    }
   ],
   "source": [
    "numero1 = int(input('Qual seu número?'))\n",
    "if numero1 %2 == 0 :\n",
    "    print('seu número é par')\n",
    "else :\n",
    "    print('seu número é impar')"
   ]
  },
  {
   "cell_type": "markdown",
   "metadata": {},
   "source": [
    "# Exercício 4-"
   ]
  },
  {
   "cell_type": "code",
   "execution_count": 6,
   "metadata": {},
   "outputs": [
    {
     "name": "stdout",
     "output_type": "stream",
     "text": [
      "negativo\n"
     ]
    }
   ],
   "source": [
    "numero1 = int(input('Qual seu número?'))\n",
    "if numero1 > 0:\n",
    "    print('positivo')\n",
    "else:\n",
    "    print('negativo')"
   ]
  },
  {
   "cell_type": "markdown",
   "metadata": {},
   "source": [
    "# Exercício 5-"
   ]
  },
  {
   "cell_type": "code",
   "execution_count": 2,
   "metadata": {},
   "outputs": [
    {
     "name": "stdout",
     "output_type": "stream",
     "text": [
      "20.0\n",
      "vc é maior de idade\n"
     ]
    }
   ],
   "source": [
    "numero1 = float(input('de que ano vc é'))\n",
    "idade = 2024 - numero1\n",
    "print(idade)\n",
    "if idade >=18: \n",
    "    print('vc é maior de idade') \n",
    "else:\n",
    "    print('vc é de menor, mete o pé doidão')"
   ]
  },
  {
   "cell_type": "markdown",
   "metadata": {},
   "source": [
    "# Exercício 6-"
   ]
  },
  {
   "cell_type": "code",
   "execution_count": 3,
   "metadata": {},
   "outputs": [
    {
     "name": "stdout",
     "output_type": "stream",
     "text": [
      "seus numeros sao iguais\n"
     ]
    }
   ],
   "source": [
    "numero1 = int(input('qual seu numero?'))\n",
    "numero2 = int(input('qual seu segundo numero?'))\n",
    "if numero1 == numero2:\n",
    "    print('seus numeros sao iguais')\n",
    "else:\n",
    "    print('seus numeros n sao iguais')\n"
   ]
  },
  {
   "cell_type": "markdown",
   "metadata": {},
   "source": [
    "# Exercício 7-"
   ]
  },
  {
   "cell_type": "code",
   "execution_count": 4,
   "metadata": {},
   "outputs": [
    {
     "name": "stdout",
     "output_type": "stream",
     "text": [
      "Sua velocidade ultrapassou o limite de velocidade, tera q pagar 140.0 R$\n"
     ]
    }
   ],
   "source": [
    "velocidade = float(input('qual a sua velocidade'))\n",
    "if velocidade > 80:\n",
    "    taxa = velocidade - 80\n",
    "    print(f'Sua velocidade ultrapassou o limite de velocidade, tera q pagar {taxa*7} R$')\n",
    "else:\n",
    "    print('sem multa')"
   ]
  },
  {
   "cell_type": "markdown",
   "metadata": {},
   "source": [
    "Escreva um programa que calcule o preço a ser pago por um produto considerando um desconto de 10% se o valor da compra for maior que R$ 100,00"
   ]
  },
  {
   "cell_type": "code",
   "execution_count": 7,
   "metadata": {},
   "outputs": [
    {
     "name": "stdout",
     "output_type": "stream",
     "text": [
      "vc ter 20.00 de desconto\n"
     ]
    }
   ],
   "source": [
    "reais=float(input(\"valor\"))\n",
    "if reais>100:\n",
    "    print(f\"vc ter {reais/10:.2f} de desconto\")\n",
    "else:\n",
    "    print(\"nao tera desconto😄😅😆😆😅😎😋\")\n"
   ]
  }
 ],
 "metadata": {
  "kernelspec": {
   "display_name": "Python 3",
   "language": "python",
   "name": "python3"
  },
  "language_info": {
   "codemirror_mode": {
    "name": "ipython",
    "version": 3
   },
   "file_extension": ".py",
   "mimetype": "text/x-python",
   "name": "python",
   "nbconvert_exporter": "python",
   "pygments_lexer": "ipython3",
   "version": "3.12.2"
  }
 },
 "nbformat": 4,
 "nbformat_minor": 2
}
