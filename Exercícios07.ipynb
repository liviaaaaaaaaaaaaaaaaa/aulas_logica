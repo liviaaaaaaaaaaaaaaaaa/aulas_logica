{
 "cells": [
  {
   "cell_type": "markdown",
   "metadata": {},
   "source": [
    "1"
   ]
  },
  {
   "cell_type": "code",
   "execution_count": 24,
   "metadata": {},
   "outputs": [
    {
     "name": "stdout",
     "output_type": "stream",
     "text": [
      "['Avatar', 'Minha mãe é uma peça', 'Moana', 'Invocção do mal', 'It a coisa', 'Barbie Sereia', 'Gente grande', 'Branquela']\n",
      "Avatar\n",
      "['Avatar', 'Minha mãe é uma peça', 'Moana', 'Invocção do mal', 'It a coisa', 'Barbie Sereia', 'Gente grande', 'Branquela']\n",
      "Invocção do mal\n",
      "['Avatar', 'Minha mãe é uma peça', 'Moana', 'Invocção do mal', 'It a coisa', 'Barbie Sereia', 'Annabele', 'Branquela']\n",
      "['Avatar', 'Minha mãe é uma peça', 'Moana', 'Invocção do mal', 'It a coisa', 'Barbie Sereia', 'Annabele', 'Branquela', 'Carros']\n",
      "['Avatar', 'Minha mãe é uma peça', 'Moana', 'Invocção do mal', 'It a coisa', 'Barbie Sereia', 'Annabele', 'Branquela', 'Carros', 'Barbie Sereia']\n",
      "['Avatar', 'Minha mãe é uma peça', 'Moana', 'Invocção do mal', 'It a coisa', 'Barbie Sereia', 'Annabele', 'Branquela', 'Carros']\n",
      "['Avatar', 'Minha mãe é uma peça', 'Moana', 'Invocção do mal', 'It a coisa', 'Barbie Sereia', 'Annabele', 'Branquela']\n",
      "['Avatar', 'Minha mãe é uma peça', 'Moana']\n",
      "['Avatar', 'Minha mãe é uma peça', 'Moana', 'Invocção do mal']\n",
      "8\n"
     ]
    }
   ],
   "source": [
    "filme = ['Avatar', 'Minha mãe é uma peça', 'Moana', 'Invocção do mal', 'It a coisa', 'Barbie Sereia', 'Gente grande', 'Branquela']\n",
    "print(filme)\n",
    "print(filme[0])\n",
    "\n",
    "print(filme)\n",
    "print(filme[3])\n",
    "\n",
    "filme[6] = 'Annabele'\n",
    "print(filme)\n",
    "\n",
    "#Insira um novo filme no final da lista e exiba a lista\n",
    "filme.append('Carros')\n",
    "print(filme)\n",
    "\n",
    "#Insira um novo filme na posição 5 e exiba a lista\n",
    "filme.append('Barbie Sereia')\n",
    "print(filme)\n",
    "\n",
    "#Exclua o primeiro filme e exiba a lista\n",
    "filme.pop()\n",
    "print(filme)\n",
    "\n",
    "#Exclua o último filme e exiba a lista \n",
    "filme.pop()\n",
    "print(filme)\n",
    "\n",
    "#Exiba os 3 primeiros filmes da lista \n",
    "print(filme[0: 3])\n",
    "\n",
    "#Exiba os 4 últimos filmes da lista\n",
    "print(filme[0: 4])\n",
    "\n",
    "#Exiba a quantidade de filmes atualmente na lista \n",
    "print(len(filme)) #Total de lista\n",
    "\n",
    "#Ordene os filmes em ordem decrescente e exiba-os\n",
    "filme.sort() #Ordenando lista em ordem decrescente"
   ]
  },
  {
   "cell_type": "code",
   "execution_count": null,
   "metadata": {},
   "outputs": [],
   "source": [
    "Times = ['Flamengo', 'Bota Fogo', 'Palmeiras', 'são paulo', 'Corinthians', 'Vasco', 'Cruzeiro', 'Juventude', 'Santos', 'Cuiaba', 'Gremio', 'Vasco', 'Cruzeiro',]"
   ]
  }
 ],
 "metadata": {
  "kernelspec": {
   "display_name": "Python 3",
   "language": "python",
   "name": "python3"
  },
  "language_info": {
   "codemirror_mode": {
    "name": "ipython",
    "version": 3
   },
   "file_extension": ".py",
   "mimetype": "text/x-python",
   "name": "python",
   "nbconvert_exporter": "python",
   "pygments_lexer": "ipython3",
   "version": "3.12.3"
  }
 },
 "nbformat": 4,
 "nbformat_minor": 2
}
