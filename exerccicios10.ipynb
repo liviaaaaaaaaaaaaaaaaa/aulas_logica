{
 "cells": [
  {
   "cell_type": "markdown",
   "metadata": {},
   "source": [
    "1- Escreva uma função que utilize uma variável global para contar o número de vezes que foi\n",
    "chamada. A função deve retornar o número atual de chamadas."
   ]
  },
  {
   "cell_type": "code",
   "execution_count": 2,
   "metadata": {},
   "outputs": [
    {
     "name": "stdout",
     "output_type": "stream",
     "text": [
      "Fora da função 2\n",
      "Dento da função: 4\n",
      "Fora da função 4\n"
     ]
    }
   ],
   "source": [
    "x=2\n",
    "print ('Fora da função', x)\n",
    "def minha_função():\n",
    "    global x\n",
    "    x = x + 2\n",
    "    print('Dento da função:', x)\n",
    "minha_função()\n",
    "print('Fora da função', x)"
   ]
  },
  {
   "cell_type": "markdown",
   "metadata": {},
   "source": [
    "2- Crie um algoritmo que receba em variável global o valor atual do dólar e do euro, crie uma\n",
    "função que receba o valor a ser convertido e imprima a conversão em dólar e em euro"
   ]
  },
  {
   "cell_type": "code",
   "execution_count": 9,
   "metadata": {},
   "outputs": [
    {
     "name": "stdout",
     "output_type": "stream",
     "text": [
      "seu valor em dolar 2.73 e em euro é 2.57\n"
     ]
    }
   ],
   "source": [
    "dolar=5.13\n",
    "euro=5.45\n",
    "def transformar(v1):\n",
    "    global dolar\n",
    "    global euro\n",
    "    conversao1= v1/dolar\n",
    "    conversao2= v1/euro\n",
    "    print(f'seu valor em dolar {conversao1:.2f} e em euro é {conversao2:.2f}')\n",
    "\n",
    "transformar(14)"
   ]
  },
  {
   "cell_type": "markdown",
   "metadata": {},
   "source": [
    "3- Escreva uma função que recebe um nome e o adicione a uma lista de nomes global. Em\n",
    "seguida, escreva outra função que remova um elemento dessa lista global recebendo o nome."
   ]
  },
  {
   "cell_type": "code",
   "execution_count": 4,
   "metadata": {},
   "outputs": [
    {
     "name": "stdout",
     "output_type": "stream",
     "text": [
      "[]\n",
      "['Marcos já que eu fiz']\n",
      "['Marcos já que eu fiz', 'Douglas']\n"
     ]
    }
   ],
   "source": [
    "listaNomes = []\n",
    "\n",
    "def Adicionar (nome):\n",
    "    listaNomes.append(nome)\n",
    "    print(listaNomes)\n",
    "def Remover(nome):\n",
    " listaNomes.remove(nome)\n",
    "print(listaNomes)\n",
    "\n",
    "Adicionar('Marcos já que eu fiz')\n",
    "Adicionar('Douglas')\n",
    "Remover('Douglas')"
   ]
  },
  {
   "cell_type": "markdown",
   "metadata": {},
   "source": [
    "4-"
   ]
  },
  {
   "cell_type": "code",
   "execution_count": 14,
   "metadata": {},
   "outputs": [
    {
     "name": "stdout",
     "output_type": "stream",
     "text": [
      "Menu\n",
      "[1] Depositar\n",
      "[2] Sacar\n",
      "[3] Consultar\n",
      "[4] Sair\n"
     ]
    },
    {
     "name": "stdout",
     "output_type": "stream",
     "text": [
      "Seu saldo R$ 0.00\n",
      "Seu saldo R$ 500.00\n",
      "Seu saldo R$ 320.00\n",
      "Seu saldo R$ 320.00\n"
     ]
    }
   ],
   "source": [
    "saldo = 0\n",
    "\n",
    "def Depositar(valor) :\n",
    "    global saldo \n",
    "    saldo = saldo + valor\n",
    "\n",
    "def Sacar(valor) :\n",
    "    global saldo\n",
    "    saldo = saldo - valor\n",
    "\n",
    "def ConsultarSaldo() :\n",
    "    print(f'Seu saldo R$ {saldo:.2f}')\n",
    "\n",
    "\n",
    "print('Menu')\n",
    "print('[1] Depositar')\n",
    "print('[2] Sacar')\n",
    "print('[3] Consultar')\n",
    "print('[4] Sair')\n",
    "while True :\n",
    "    opcao = input('Digite a opcao do Menu')\n",
    "    \n",
    "    if opcao == '1' :\n",
    "        valor = float (input('Digite o valor para depositar:'))\n",
    "        Depositar(valor)\n",
    "    elif opcao == '2' :\n",
    "            valor = float(input('Digite o valor para sacar:'))\n",
    "            Sacar(valor)\n",
    "    elif opcao == '3' :\n",
    "            ConsultarSaldo()\n",
    "    else:\n",
    "        break\n",
    "        "
   ]
  },
  {
   "cell_type": "markdown",
   "metadata": {},
   "source": [
    "5-"
   ]
  },
  {
   "cell_type": "code",
   "execution_count": 17,
   "metadata": {},
   "outputs": [
    {
     "name": "stdout",
     "output_type": "stream",
     "text": [
      "++++++++++++++++++++\n",
      "++++++++++++++++++++\n",
      "++++++++++++++++++++\n",
      "++++++++++++++++++++\n",
      "++++++++++++++++++++\n"
     ]
    }
   ],
   "source": [
    "caractere = '+'\n",
    "def desenharForma(l, a) :\n",
    "    global caractere\n",
    "    for i in range(a) :\n",
    "        print(caractere * l)\n",
    "\n",
    "desenharForma(20,5)"
   ]
  }
 ],
 "metadata": {
  "kernelspec": {
   "display_name": "Python 3",
   "language": "python",
   "name": "python3"
  },
  "language_info": {
   "codemirror_mode": {
    "name": "ipython",
    "version": 3
   },
   "file_extension": ".py",
   "mimetype": "text/x-python",
   "name": "python",
   "nbconvert_exporter": "python",
   "pygments_lexer": "ipython3",
   "version": "3.12.3"
  }
 },
 "nbformat": 4,
 "nbformat_minor": 2
}
