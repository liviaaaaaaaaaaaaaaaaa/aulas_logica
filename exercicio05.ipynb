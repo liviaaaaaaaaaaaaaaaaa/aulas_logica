{
 "cells": [
  {
   "cell_type": "code",
   "execution_count": 7,
   "metadata": {},
   "outputs": [
    {
     "name": "stdout",
     "output_type": "stream",
     "text": [
      "O numero 2 é par\n",
      "O numero 4 é par\n",
      "O numero 6 é par\n",
      "O numero 8 é par\n",
      "O numero 10 é par\n",
      "O numero 12 é par\n",
      "O numero 14 é par\n",
      "O numero 16 é par\n",
      "O numero 18 é par\n",
      "O numero 20 é par\n"
     ]
    }
   ],
   "source": [
    "x = 1\n",
    "while x <= 20:\n",
    "    if x % 2 == 0:\n",
    "        print(f'O numero {x} é par')\n",
    "    x = x + 1\n"
   ]
  },
  {
   "cell_type": "code",
   "execution_count": 1,
   "metadata": {},
   "outputs": [
    {
     "name": "stdout",
     "output_type": "stream",
     "text": [
      "13\n",
      "Você chutou 10. Tente um número 👆\n",
      "Você chutou  17. Tente um número👇\n",
      "Você chutou  16. Tente um número👇\n",
      "Você chutou  14. Tente um número👇\n",
      "Você chutou 12. Tente um número 👆\n",
      "Você chutou 13. Parabéns você acertou❤❤❤\n",
      "FIM\n"
     ]
    }
   ],
   "source": [
    "#Importando a biblioteca de números aleatorios \n",
    "import random\n",
    "#Sorteando um número de 1 a 20\n",
    "nrSorteado = random.randint(1, 20)\n",
    "print(nrSorteado)\n",
    "acertou = False\n",
    "while acertou == False:\n",
    "    chute = int(input('🐱‍🐉Digete um número entre 1 e 20:'))\n",
    "    if chute == nrSorteado:\n",
    "        print (f'Você chutou {chute}. Parabéns você acertou❤❤❤')\n",
    "        acertou = True \n",
    "    elif chute > nrSorteado:\n",
    "       print (f'Você chutou  {chute}. Tente um número👇')\n",
    "    else :\n",
    "        print (f'Você chutou {chute}. Tente um número 👆')\n",
    "print('FIM')\n"
   ]
  },
  {
   "cell_type": "code",
   "execution_count": 7,
   "metadata": {},
   "outputs": [
    {
     "name": "stdout",
     "output_type": "stream",
     "text": [
      "Os números sorteados na mega-sena são 32, 2, 18, 30, 48, 56\n"
     ]
    }
   ],
   "source": [
    "import random\n",
    "nmr0 = random.randint(1, 60)\n",
    "nmr1 = random.randint(1, 60)\n",
    "nmr2 = random.randint(1, 60)\n",
    "nmr3 = random.randint(1, 60)\n",
    "nmr4 = random.randint(1, 60)\n",
    "nmr5 = random.randint(1, 60)\n",
    "print(f'Os números sorteados na mega-sena são {nmr0}, {nmr1}, {nmr2}, {nmr3}, {nmr4}, {nmr5}')\n"
   ]
  },
  {
   "cell_type": "code",
   "execution_count": 8,
   "metadata": {},
   "outputs": [
    {
     "name": "stdout",
     "output_type": "stream",
     "text": [
      " A soma é 532 são 8 pares e 8 ímpares\n"
     ]
    }
   ],
   "source": [
    "soma = 0\n",
    "qtdePar = 0\n",
    "qtdeImpar = 0\n",
    "\n",
    "while True :\n",
    "    nr = int(input('Digite o valor, [0 para encerrar]'))\n",
    "    if nr == 0: \n",
    "        break \n",
    "    if nr % 2 == 0 : \n",
    "        qtdePar += 1  # qtdePar = qtdePar + 1\n",
    "    if nr % 2 == 1 :\n",
    "        qtdePar += 1  # qtdeImpar = qtdeImpar + 1\n",
    "    soma += nr \n",
    "    \n",
    "print( f' A soma é {soma} são {qtdePar} pares e {qtdePar} ímpares')\n",
    "        "
   ]
  }
 ],
 "metadata": {
  "kernelspec": {
   "display_name": "Python 3",
   "language": "python",
   "name": "python3"
  },
  "language_info": {
   "codemirror_mode": {
    "name": "ipython",
    "version": 3
   },
   "file_extension": ".py",
   "mimetype": "text/x-python",
   "name": "python",
   "nbconvert_exporter": "python",
   "pygments_lexer": "ipython3",
   "version": "3.12.3"
  }
 },
 "nbformat": 4,
 "nbformat_minor": 2
}
