{
 "cells": [
  {
   "cell_type": "markdown",
   "metadata": {},
   "source": [
    "1-"
   ]
  },
  {
   "cell_type": "code",
   "execution_count": 3,
   "metadata": {},
   "outputs": [
    {
     "name": "stdout",
     "output_type": "stream",
     "text": [
      "--------------------------------------------------\n",
      "BOAS VINDAS/ BOAS VINDAS\n",
      "----\n",
      "--------------------------------------------------\n",
      "BOAS VINDAS/ BOAS VINDAS\n",
      "----\n",
      "--------------------------------------------------\n",
      "BOAS VINDAS/ BOAS VINDAS\n",
      "----\n",
      "--------------------------------------------------\n",
      "BOAS VINDAS/ BOAS VINDAS\n",
      "----\n"
     ]
    }
   ],
   "source": [
    "def saudações () :\n",
    "    print ('-' * 50)\n",
    "    print ('BOAS VINDAS/ BOAS VINDAS')\n",
    "    print ('-' * 4)\n",
    "\n",
    "saudações()\n",
    "saudações()\n",
    "saudações()\n",
    "saudações()\n"
   ]
  },
  {
   "cell_type": "markdown",
   "metadata": {},
   "source": [
    "2-"
   ]
  },
  {
   "cell_type": "code",
   "execution_count": 4,
   "metadata": {},
   "outputs": [
    {
     "name": "stdout",
     "output_type": "stream",
     "text": [
      "amarelo\n",
      "azul\n",
      "vermelho\n"
     ]
    }
   ],
   "source": [
    "def Funcao() :\n",
    "    CoresPrimarias = ['amarelo', 'azul', 'vermelho']\n",
    "    for CoresPrimarias in CoresPrimarias :\n",
    "        print(CoresPrimarias)\n",
    "\n",
    "Funcao()"
   ]
  },
  {
   "cell_type": "markdown",
   "metadata": {},
   "source": [
    "3-"
   ]
  },
  {
   "cell_type": "code",
   "execution_count": 1,
   "metadata": {},
   "outputs": [
    {
     "name": "stdout",
     "output_type": "stream",
     "text": [
      "3 x 0 = 0\n",
      "3 x 1 = 3\n",
      "3 x 2 = 6\n",
      "3 x 3 = 9\n",
      "3 x 4 = 12\n",
      "3 x 5 = 15\n",
      "3 x 6 = 18\n",
      "3 x 7 = 21\n",
      "3 x 8 = 24\n",
      "3 x 9 = 27\n",
      "3 x 10 = 30\n",
      "2 x 0 = 0\n",
      "2 x 1 = 2\n",
      "2 x 2 = 4\n",
      "2 x 3 = 6\n",
      "2 x 4 = 8\n",
      "2 x 5 = 10\n",
      "2 x 6 = 12\n",
      "2 x 7 = 14\n",
      "2 x 8 = 16\n",
      "2 x 9 = 18\n",
      "2 x 10 = 20\n",
      "1 x 0 = 0\n",
      "1 x 1 = 1\n",
      "1 x 2 = 2\n",
      "1 x 3 = 3\n",
      "1 x 4 = 4\n",
      "1 x 5 = 5\n",
      "1 x 6 = 6\n",
      "1 x 7 = 7\n",
      "1 x 8 = 8\n",
      "1 x 9 = 9\n",
      "1 x 10 = 10\n"
     ]
    }
   ],
   "source": [
    "def Tabuada(numero) :\n",
    "    for x in range (11) :\n",
    "        print(f'{numero} x {x} = {numero * x}')\n",
    "\n",
    "Tabuada(3)\n",
    "Tabuada(2)\n",
    "Tabuada(1)\n"
   ]
  },
  {
   "cell_type": "markdown",
   "metadata": {},
   "source": [
    "4-"
   ]
  },
  {
   "cell_type": "code",
   "execution_count": 2,
   "metadata": {},
   "outputs": [
    {
     "name": "stdout",
     "output_type": "stream",
     "text": [
      "A soma de 10 + 5 é 15\n",
      "A soma de 40 + 40 é 80\n",
      "A soma de 79 + 80 é 159\n",
      "A Subtração de 10 - 5 é 5\n",
      "A Subtração de 20 - 8 é 12\n",
      "A Subtração de 80 - 79 é 1\n",
      "A Multiplicação de 10 * 5 é 50\n",
      "A Multiplicação de 2 * 6 é 12\n",
      "A Multiplicação de 3 * 9 é 27\n"
     ]
    }
   ],
   "source": [
    "def Soma (n1, n2):\n",
    "    res = n1 + n2\n",
    "    print(f'A soma de {n1} + {n2} é {res}')\n",
    "\n",
    "Soma (10,5)\n",
    "Soma(40,40)\n",
    "Soma (79,80)\n",
    "\n",
    "def Subtração (n1, n2):\n",
    "    res = n1 - n2\n",
    "    print(f'A Subtração de {n1} - {n2} é {res}')\n",
    "\n",
    "Subtração (10,5)\n",
    "Subtração(20,8)\n",
    "Subtração (80,79)\n",
    "\n",
    "def Multiplicação (n1, n2):\n",
    "    res = n1 * n2\n",
    "    print(f'A Multiplicação de {n1} * {n2} é {res}')\n",
    "\n",
    "Multiplicação (10,5)\n",
    "Multiplicação(2,6)\n",
    "Multiplicação (3,9)\n",
    "\n"
   ]
  },
  {
   "cell_type": "markdown",
   "metadata": {},
   "source": []
  },
  {
   "cell_type": "code",
   "execution_count": 7,
   "metadata": {},
   "outputs": [],
   "source": [
    "def Calculadora(n1, n2, nop) :\n",
    "    if op == '+' :\n",
    "        res = n1 + n2 \n",
    "    elif op == '-' :\n",
    "       resp = n1 - n2\n",
    "    elif op == '+' :\n",
    "       resp = n1 - n2\n",
    "    elif op == '/' :\n",
    "       resp = n1 - n2\n",
    "    elif op == '*' :\n",
    "     res = n1 - n2\n",
    "    \n",
    "    Calculadora(6, 7, '+')"
   ]
  },
  {
   "cell_type": "code",
   "execution_count": 15,
   "metadata": {},
   "outputs": [],
   "source": [
    "import random\n",
    "def SenhaAleatorio(tamanho) :\n",
    "    listaCaracteres= 'rfbjbfchbfrihfegufgrhufuhrgvbuhtrfhviburth8ugrfhbvih'\n",
    "    senha = ''\n",
    "    for i in range(tamanho): \n",
    "        senha = senha + random.choice(listaCaracteres)\n",
    "\n",
    "        return(senha)\n",
    "    \n",
    "    senhaTemp = SenhaAleatorio(8)\n",
    "    print(senhaTemp)"
   ]
  }
 ],
 "metadata": {
  "kernelspec": {
   "display_name": "Python 3",
   "language": "python",
   "name": "python3"
  },
  "language_info": {
   "codemirror_mode": {
    "name": "ipython",
    "version": 3
   },
   "file_extension": ".py",
   "mimetype": "text/x-python",
   "name": "python",
   "nbconvert_exporter": "python",
   "pygments_lexer": "ipython3",
   "version": "3.12.3"
  }
 },
 "nbformat": 4,
 "nbformat_minor": 2
}
