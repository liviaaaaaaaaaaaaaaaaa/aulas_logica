{
 "cells": [
  {
   "cell_type": "markdown",
   "metadata": {},
   "source": [
    "1"
   ]
  },
  {
   "cell_type": "code",
   "execution_count": 2,
   "metadata": {},
   "outputs": [
    {
     "name": "stdout",
     "output_type": "stream",
     "text": [
      "hoje é segunda\n"
     ]
    }
   ],
   "source": [
    "n1 = float(input('digite um número de 1 a 7'))\n",
    "match n1:\n",
    "    case 1 :\n",
    "        print('hoje é domingrauu')\n",
    "    case 2 :\n",
    "        print('hoje é segunda')\n",
    "    case 3 :\n",
    "        print('hoje é terça')\n",
    "    case 4 :\n",
    "        print('quarta-feira naqueles pique')\n",
    "    case 5 :\n",
    "        print('quinta-feira de lei')\n",
    "    case 6 :\n",
    "        print('sextou bb')\n",
    "    case 7 :\n",
    "        print('sabadou, qual a boa pra hoje?')"
   ]
  },
  {
   "cell_type": "markdown",
   "metadata": {},
   "source": [
    "2"
   ]
  },
  {
   "cell_type": "code",
   "execution_count": 3,
   "metadata": {},
   "outputs": [
    {
     "name": "stdout",
     "output_type": "stream",
     "text": [
      "Vc é adolescente\n"
     ]
    }
   ],
   "source": [
    "v1 = int(input('em q ano vc nasceu?'))\n",
    "conta = 2024 - v1\n",
    "if conta >=18 and conta <= 59:\n",
    " print('Vc é um adulto')\n",
    "elif v1 <= 10:\n",
    " print('Vc é criança')\n",
    "elif v1 >= 11 and conta <= 17:\n",
    " print('Vc é adolescente')\n",
    "else:\n",
    " print('vc é idoso')"
   ]
  },
  {
   "cell_type": "markdown",
   "metadata": {},
   "source": [
    "3"
   ]
  },
  {
   "cell_type": "code",
   "execution_count": 4,
   "metadata": {},
   "outputs": [],
   "source": [
    "mes = (input('digite o mês'))\n",
    "match mes:\n",
    "    case 'JANEIRO':\n",
    "     print('tem 31 dias')\n",
    "    case 'FEVEREIRO':\n",
    "     print('tem 28 dias')\n",
    "    case 'MARÇO':\n",
    "     print('tem 31 dias')\n",
    "    case 'ABRIL':\n",
    "     print('tem 30 dias')\n",
    "    case 'MAIO':\n",
    "     print('tem 31 dias')\n",
    "    case 'JUNHO':\n",
    "     print('tem 30 dias')\n",
    "    case 'JULHO':\n",
    "     print('tem 31 dias')\n",
    "    case 'AGOSTO':\n",
    "     print('tem 31 dias')\n",
    "    case 'SETEMBRO':\n",
    "     print('tem 30 dias')\n",
    "    case 'OUTUBRO':\n",
    "     print('tem 31 dias')\n",
    "    case 'NOVEMBRO':\n",
    "     print('tem 30 dias')\n",
    "    case 'DEZEMBRO':\n",
    "     print('tem 31 dias')"
   ]
  },
  {
   "cell_type": "markdown",
   "metadata": {},
   "source": [
    "4"
   ]
  },
  {
   "cell_type": "code",
   "execution_count": 8,
   "metadata": {},
   "outputs": [
    {
     "name": "stdout",
     "output_type": "stream",
     "text": [
      "você esta de recuperação\n"
     ]
    }
   ],
   "source": [
    "n1 = float(input('digite a nota'))\n",
    "n2 = float(input('digite a nota'))\n",
    "conta = (n1 + n2)/2\n",
    "if conta >7:\n",
    "    print(\"você esta aprovado\")\n",
    "elif conta <=7 and conta >= 5:\n",
    "    print('você esta de recuperação')\n",
    "else:\n",
    "    print('você esta reprovado')"
   ]
  },
  {
   "cell_type": "markdown",
   "metadata": {},
   "source": [
    "5"
   ]
  },
  {
   "cell_type": "code",
   "execution_count": 9,
   "metadata": {},
   "outputs": [
    {
     "name": "stdout",
     "output_type": "stream",
     "text": [
      "seu salario é 2240.0\n"
     ]
    }
   ],
   "source": [
    "salario = float(input('digite seu salario'))\n",
    "if salario <= 2000:\n",
    "    conta = salario * 12 / 100\n",
    "    nvsalario = salario + conta\n",
    "    print(f'seu salario é {nvsalario}')\n",
    "elif salario >2000 and salario <= 4000:\n",
    "    conta2 = salario * 10 /100\n",
    "    nvsalario2 = salario + conta2\n",
    "    print(f'seu salario é {nvsalario2}')\n",
    "else:\n",
    "    conta3 = salario *8 / 100\n",
    "    nvsalario3 = salario + conta3\n",
    "    print(f'seu salario é {nvsalario3}')\n"
   ]
  }
 ],
 "metadata": {
  "kernelspec": {
   "display_name": "Python 3",
   "language": "python",
   "name": "python3"
  },
  "language_info": {
   "codemirror_mode": {
    "name": "ipython",
    "version": 3
   },
   "file_extension": ".py",
   "mimetype": "text/x-python",
   "name": "python",
   "nbconvert_exporter": "python",
   "pygments_lexer": "ipython3",
   "version": "3.12.3"
  }
 },
 "nbformat": 4,
 "nbformat_minor": 2
}
