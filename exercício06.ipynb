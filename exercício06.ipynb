{
 "cells": [
  {
   "cell_type": "code",
   "execution_count": null,
   "metadata": {},
   "outputs": [],
   "source": [
    "1"
   ]
  },
  {
   "cell_type": "code",
   "execution_count": 1,
   "metadata": {},
   "outputs": [
    {
     "name": "stdout",
     "output_type": "stream",
     "text": [
      "1\n",
      "3\n",
      "5\n",
      "7\n",
      "9\n",
      "11\n",
      "13\n",
      "15\n",
      "17\n",
      "19\n",
      "21\n",
      "23\n",
      "25\n",
      "27\n",
      "29\n",
      "31\n",
      "33\n",
      "35\n",
      "37\n",
      "39\n"
     ]
    }
   ],
   "source": [
    "for x in range(1, 40, 2 ) :\n",
    "  if x % 2 == 1 :\n",
    "    print(f'0 numero {x} é impar')"
   ]
  },
  {
   "cell_type": "markdown",
   "metadata": {},
   "source": [
    "2."
   ]
  },
  {
   "cell_type": "code",
   "execution_count": 3,
   "metadata": {},
   "outputs": [
    {
     "name": "stdout",
     "output_type": "stream",
     "text": [
      "49\n",
      "47\n",
      "56\n",
      "29\n",
      "40\n",
      "32\n"
     ]
    }
   ],
   "source": [
    "import random\n",
    "for x in range (1, 7) :\n",
    "    nmr = random.randint(1, 60)\n",
    "    print (nmr)"
   ]
  },
  {
   "cell_type": "markdown",
   "metadata": {},
   "source": [
    "3"
   ]
  },
  {
   "cell_type": "code",
   "execution_count": 10,
   "metadata": {},
   "outputs": [
    {
     "name": "stdout",
     "output_type": "stream",
     "text": [
      "a soma é 15 sao 2 pares e 3 impares\n"
     ]
    }
   ],
   "source": [
    "soma =0\n",
    "par =0\n",
    "impar=0\n",
    "for nr in range (5): \n",
    " nr = int(input('Digite um numero:))\n",
    " soma = soma + nr\n",
    " if nr % 2 == 0 :\n",
    "\n",
    "else :\n",
    "   impar = impar\n",
    "\n",
    "print(f\"a total soma é {soma} sao {quant2} pares e {quant3} impares\")  \n",
    "   "
   ]
  },
  {
   "cell_type": "markdown",
   "metadata": {},
   "source": [
    "4"
   ]
  },
  {
   "cell_type": "code",
   "execution_count": 1,
   "metadata": {},
   "outputs": [],
   "source": [
    "inicio = int(input('Digite o valor inicial'))\n",
    "fim = int(input('Digite o valor final'))\n",
    "passo = int(input('Digite o passo'))\n",
    "for x in range(inicio, fim, passo) :\n",
    "    print(x)\n",
    "                "
   ]
  },
  {
   "cell_type": "markdown",
   "metadata": {},
   "source": [
    "5"
   ]
  },
  {
   "cell_type": "code",
   "execution_count": null,
   "metadata": {},
   "outputs": [],
   "source": [
    "soma_grupo = 0\n",
    "soma_mulheres = 0\n",
    "soma_homens = 0\n",
    "soma_grupo = 0\n",
    "qntde_mulheres = 0\n",
    "qntde_homens = 0\n",
    "for x in range(5) :\n",
    "    idade = int(input('Digite a idade:'))\n",
    "    sexo = input('Digite o sexo: [F/N]')\n",
    "    if sexo == 'F' :\n",
    "        soma_mulheres = soma_mulheres + idade \n",
    "        qntde_mulheres = qntde_mulheres + 1\n",
    "    else:\n",
    "        soma_homens = soma_homens + idade\n",
    "        soma_homens = qntde_homens + 1\n",
    "print(f'Média das mulheres {soma_mulheres / qntde_mulheres}')\n",
    "print(f'Média dos homens {soma_homens / qntde_homens}')\n",
    "print(f'Média do grupo {(soma_homens + soma_mulheres) / (qntde_homens+qntde_mulheres)}')\n",
    "\n"
   ]
  },
  {
   "cell_type": "code",
   "execution_count": null,
   "metadata": {},
   "outputs": [],
   "source": [
    "for nr in range(5, 101) :\n",
    "    if nr % 7 == 0 :\n",
    "        print(nr)\n"
   ]
  },
  {
   "cell_type": "code",
   "execution_count": 5,
   "metadata": {},
   "outputs": [
    {
     "name": "stdout",
     "output_type": "stream",
     "text": [
      "ogay\n"
     ]
    }
   ],
   "source": [
    "palavra = input('Digite uma palavra: ')\n",
    "nova_palavra = ''\n",
    "for letra in palavra :\n",
    "    nova_palavra = letra + nova_palavra\n",
    "print(nova_palavra)"
   ]
  }
 ],
 "metadata": {
  "kernelspec": {
   "display_name": "Python 3",
   "language": "python",
   "name": "python3"
  },
  "language_info": {
   "codemirror_mode": {
    "name": "ipython",
    "version": 3
   },
   "file_extension": ".py",
   "mimetype": "text/x-python",
   "name": "python",
   "nbconvert_exporter": "python",
   "pygments_lexer": "ipython3",
   "version": "3.12.3"
  }
 },
 "nbformat": 4,
 "nbformat_minor": 2
}
