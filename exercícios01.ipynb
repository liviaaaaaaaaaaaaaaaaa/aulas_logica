{
 "cells": [
  {
   "cell_type": "markdown",
   "metadata": {},
   "source": [
    "# Exercício 00"
   ]
  },
  {
   "cell_type": "code",
   "execution_count": 1,
   "metadata": {},
   "outputs": [
    {
     "name": "stdout",
     "output_type": "stream",
     "text": [
      "olá tudo bem?\n",
      "<class 'str'>\n"
     ]
    }
   ],
   "source": [
    "print (\"olá tudo bem?\")\n",
    "print(type(\"Olá, tudo bem?\"))"
   ]
  },
  {
   "cell_type": "markdown",
   "metadata": {},
   "source": [
    "# Exercício 01\n"
   ]
  },
  {
   "cell_type": "code",
   "execution_count": 4,
   "metadata": {},
   "outputs": [
    {
     "name": "stdout",
     "output_type": "stream",
     "text": [
      "80\n"
     ]
    }
   ],
   "source": [
    "print( 62 + 18 )"
   ]
  },
  {
   "cell_type": "markdown",
   "metadata": {},
   "source": [
    "# Exercício 02"
   ]
  },
  {
   "cell_type": "code",
   "execution_count": 12,
   "metadata": {},
   "outputs": [
    {
     "name": "stdout",
     "output_type": "stream",
     "text": [
      "O sucessor de 50.0 é: 51.0\n",
      "O sucessor de 50.0 é: 49.0\n"
     ]
    }
   ],
   "source": [
    "numero = float(input(\"digite um numero\"))\n",
    "print(\"O sucessor de\", numero, \"é:\", numero + 1)\n",
    "print(\"O sucessor de\", numero, \"é:\", numero - 1)"
   ]
  },
  {
   "cell_type": "markdown",
   "metadata": {},
   "source": [
    "# Exercício 03"
   ]
  },
  {
   "cell_type": "code",
   "execution_count": 6,
   "metadata": {},
   "outputs": [
    {
     "name": "stdout",
     "output_type": "stream",
     "text": [
      "(4, 6, 1.4142135623730951)\n"
     ]
    }
   ],
   "source": [
    "numero = 2\n",
    "resultado = numero * 2, numero * 3, numero ** 0.5\n",
    "print(resultado)"
   ]
  },
  {
   "cell_type": "markdown",
   "metadata": {},
   "source": [
    "# Exercício 04"
   ]
  },
  {
   "cell_type": "code",
   "execution_count": 7,
   "metadata": {},
   "outputs": [
    {
     "name": "stdout",
     "output_type": "stream",
     "text": [
      "7.5\n"
     ]
    }
   ],
   "source": [
    "nota1 = float(input('qual a primeira nota'))\n",
    "nota2 = float(input('qual a segunda nota'))\n",
    "soma = nota1 + nota2\n",
    "resultado = soma / 2\n",
    "print(resultado)"
   ]
  },
  {
   "cell_type": "markdown",
   "metadata": {},
   "source": [
    "# Exercício 05"
   ]
  },
  {
   "cell_type": "code",
   "execution_count": 11,
   "metadata": {},
   "outputs": [
    {
     "name": "stdout",
     "output_type": "stream",
     "text": [
      "(50000.0, 500000.0)\n"
     ]
    }
   ],
   "source": [
    "metros = float(input('medida em metros'))\n",
    "resultado = metros * 100, metros * 1000\n",
    "print(resultado)\n"
   ]
  },
  {
   "cell_type": "markdown",
   "metadata": {},
   "source": [
    "# Exercício 06"
   ]
  },
  {
   "cell_type": "code",
   "execution_count": 15,
   "metadata": {},
   "outputs": [
    {
     "name": "stdout",
     "output_type": "stream",
     "text": [
      "9 x 1 = 9\n",
      "9 x 2 = 18\n",
      "9 x 3 = 27\n",
      "9 x 4 = 36\n",
      "9 x 5 = 45\n",
      "9 x 6 = 54\n",
      "9 x 7 = 63\n",
      "9 x 8 = 72\n",
      "9 x 9 = 81\n",
      "9 x 10 = 90\n"
     ]
    }
   ],
   "source": [
    "numero = int(input('digite um numero'))\n",
    "for i in range(1, 11):\n",
    " print(f'{numero} x {i} = {numero*i}')"
   ]
  },
  {
   "cell_type": "markdown",
   "metadata": {},
   "source": [
    "# Exercício 07"
   ]
  },
  {
   "cell_type": "code",
   "execution_count": 1,
   "metadata": {},
   "outputs": [
    {
     "name": "stdout",
     "output_type": "stream",
     "text": [
      "Você tem $1.002004\n"
     ]
    }
   ],
   "source": [
    "real = float(input('digite um numero'))\n",
    "dolar = real / 4.99\n",
    "print(f'Você tem ${dolar:4f}')\n",
    " \n"
   ]
  },
  {
   "cell_type": "markdown",
   "metadata": {},
   "source": [
    "# Exercício 8"
   ]
  },
  {
   "cell_type": "code",
   "execution_count": null,
   "metadata": {},
   "outputs": [],
   "source": [
    "altura = float(input('digite a largura'))\n",
    "largura = float(input('digite a largura'))\n",
    "area = altura * largura\n",
    "litros = area / 2 \n",
    "print(f' para pintar uma área de {area}m², preciso de {litros}l')\n"
   ]
  },
  {
   "cell_type": "markdown",
   "metadata": {},
   "source": [
    "# Exercício 9"
   ]
  },
  {
   "cell_type": "code",
   "execution_count": 2,
   "metadata": {},
   "outputs": [
    {
     "name": "stdout",
     "output_type": "stream",
     "text": [
      "118.75\n"
     ]
    }
   ],
   "source": [
    "valor = float(input('digite o valor:'))\n",
    "desconto = valor * 5 / 100\n",
    "valor = valor - desconto\n",
    "print(valor)"
   ]
  },
  {
   "cell_type": "markdown",
   "metadata": {},
   "source": [
    "# Exercício 10"
   ]
  },
  {
   "cell_type": "code",
   "execution_count": 3,
   "metadata": {},
   "outputs": [
    {
     "name": "stdout",
     "output_type": "stream",
     "text": [
      "1150.0\n"
     ]
    }
   ],
   "source": [
    "salario = float(input('digite o salario'))\n",
    "aumento = (salario / 100) * 15\n",
    "salario = salario + aumento\n",
    "print(salario)"
   ]
  },
  {
   "cell_type": "markdown",
   "metadata": {},
   "source": [
    "# Exercício 11"
   ]
  },
  {
   "cell_type": "code",
   "execution_count": 4,
   "metadata": {},
   "outputs": [
    {
     "name": "stdout",
     "output_type": "stream",
     "text": [
      "35.0 °c é igual a 95.0 °F\n"
     ]
    }
   ],
   "source": [
    "graus = float(input('digite a temperatura em °C'))\n",
    "valor = graus * 1.8 + 32\n",
    "print(f'{graus} °c é igual a {valor} °F')"
   ]
  },
  {
   "cell_type": "markdown",
   "metadata": {},
   "source": [
    "# Exercício 12"
   ]
  },
  {
   "cell_type": "code",
   "execution_count": 5,
   "metadata": {},
   "outputs": [
    {
     "name": "stdout",
     "output_type": "stream",
     "text": [
      "o valor total será de R$ 195.00\n"
     ]
    }
   ],
   "source": [
    "km_percorrido = float(input('digite o km percorrido:'))\n",
    "dias = int(input('digite a quantidade de dias'))\n",
    "pagar = (60 * dias) + (0.15 * km_percorrido)\n",
    "print(f'o valor total será de R$ {pagar:.2f}')"
   ]
  }
 ],
 "metadata": {
  "kernelspec": {
   "display_name": "Python 3",
   "language": "python",
   "name": "python3"
  },
  "language_info": {
   "codemirror_mode": {
    "name": "ipython",
    "version": 3
   },
   "file_extension": ".py",
   "mimetype": "text/x-python",
   "name": "python",
   "nbconvert_exporter": "python",
   "pygments_lexer": "ipython3",
   "version": "3.12.2"
  }
 },
 "nbformat": 4,
 "nbformat_minor": 2
}
